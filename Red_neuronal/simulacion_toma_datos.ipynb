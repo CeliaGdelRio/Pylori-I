{
 "cells": [
  {
   "cell_type": "code",
   "execution_count": 1,
   "id": "0dc32e5b",
   "metadata": {},
   "outputs": [],
   "source": [
    "from joblib import load\n",
    "import numpy as np"
   ]
  },
  {
   "cell_type": "code",
   "execution_count": 2,
   "id": "5f23b880",
   "metadata": {},
   "outputs": [],
   "source": [
    "yscaler = load(\"yscaler.joblib\")"
   ]
  },
  {
   "cell_type": "code",
   "execution_count": 3,
   "id": "35c758e6",
   "metadata": {},
   "outputs": [
    {
     "data": {
      "text/plain": [
       "MinMaxScaler(feature_range=(-1, 1))"
      ]
     },
     "execution_count": 3,
     "metadata": {},
     "output_type": "execute_result"
    }
   ],
   "source": [
    "yscaler"
   ]
  },
  {
   "cell_type": "code",
   "execution_count": 4,
   "id": "9225e668",
   "metadata": {},
   "outputs": [],
   "source": [
    "model = load(\"single_layer.model\")"
   ]
  },
  {
   "cell_type": "code",
   "execution_count": 5,
   "id": "baa37f7c",
   "metadata": {},
   "outputs": [],
   "source": [
    "def full_model(x):\n",
    "    y = model.predict(x.reshape(1,-1))\n",
    "    return yscaler.inverse_transform(y).flatten()"
   ]
  },
  {
   "cell_type": "code",
   "execution_count": 6,
   "id": "4be37688",
   "metadata": {},
   "outputs": [],
   "source": [
    "def auxiliary(y0, x):\n",
    "    y = full_model(x)\n",
    "    return np.sum((y-y0)**2)*100"
   ]
  },
  {
   "cell_type": "markdown",
   "id": "1ae241e6",
   "metadata": {},
   "source": [
    "Auxiliary: dado un punto en el espacio y0 y una combinación de motores x, predice el punto al que corresponde x, llamado y y luego calcula una función de coste parabólica con el mínimo en y0."
   ]
  },
  {
   "cell_type": "code",
   "execution_count": 7,
   "id": "3cb41a27",
   "metadata": {},
   "outputs": [],
   "source": [
    "x0 = np.array([ 800.,    0.,  800.,    0., -800.,    0.,    0.,  800.])"
   ]
  },
  {
   "cell_type": "code",
   "execution_count": 8,
   "id": "f8a952b2",
   "metadata": {},
   "outputs": [],
   "source": [
    "y0 = full_model(x0)"
   ]
  },
  {
   "cell_type": "code",
   "execution_count": 9,
   "id": "9c8b4daf",
   "metadata": {},
   "outputs": [
    {
     "data": {
      "text/plain": [
       "array([-0.02060116, -0.00906787])"
      ]
     },
     "execution_count": 9,
     "metadata": {},
     "output_type": "execute_result"
    }
   ],
   "source": [
    "y0"
   ]
  },
  {
   "cell_type": "code",
   "execution_count": 10,
   "id": "abeaa4a0",
   "metadata": {},
   "outputs": [],
   "source": [
    "def get_uniform_y(y0, stop, step, index=1):\n",
    "    start = y0[index]\n",
    "    sign = 1 if start<stop else -1\n",
    "    out = [y0.copy()]\n",
    "    y_new = y0.copy()\n",
    "    while start*sign < stop*sign:\n",
    "        start += sign*step\n",
    "        y_new[index] = start\n",
    "        out.append(y_new.copy())\n",
    "    return np.array(out)"
   ]
  },
  {
   "cell_type": "code",
   "execution_count": 11,
   "id": "c08bc4c6",
   "metadata": {},
   "outputs": [
    {
     "data": {
      "text/plain": [
       "array([[-0.02060116, -0.00906787],\n",
       "       [-0.02060116, -0.01106787],\n",
       "       [-0.02060116, -0.01306787],\n",
       "       [-0.02060116, -0.01506787],\n",
       "       [-0.02060116, -0.01706787],\n",
       "       [-0.02060116, -0.01906787],\n",
       "       [-0.02060116, -0.02106787]])"
      ]
     },
     "execution_count": 11,
     "metadata": {},
     "output_type": "execute_result"
    }
   ],
   "source": [
    "get_uniform_y(y0, stop=-0.02, step=0.002, index=1)"
   ]
  },
  {
   "cell_type": "code",
   "execution_count": 12,
   "id": "1c6f75a7",
   "metadata": {},
   "outputs": [],
   "source": [
    "from scipy.optimize import minimize\n",
    "from functools import partial"
   ]
  },
  {
   "cell_type": "code",
   "execution_count": 13,
   "id": "86e8a0ee",
   "metadata": {},
   "outputs": [],
   "source": [
    "def find_x(x0, y):\n",
    "    res = minimize(partial(auxiliary, y), x0.copy(), method=\"l-bfgs-b\")\n",
    "    if res[\"success\"]:\n",
    "        return res[\"x\"]\n",
    "    else:\n",
    "        return None"
   ]
  },
  {
   "cell_type": "markdown",
   "id": "25716530",
   "metadata": {},
   "source": [
    "find x minimiza la parábola auxiliary para encontrar motores que hayan variado suavemente desde el punto anterior."
   ]
  },
  {
   "cell_type": "code",
   "execution_count": 14,
   "id": "e6735bc4",
   "metadata": {},
   "outputs": [],
   "source": [
    "def compute_grid_1D(x0, ys):\n",
    "    xs =[]\n",
    "    for y in ys:\n",
    "        x = find_x(x0,y)\n",
    "        xs.append(x)\n",
    "        if x is not None:\n",
    "            x0=x.copy()\n",
    "    return np.array(xs)"
   ]
  },
  {
   "cell_type": "markdown",
   "id": "401d9b54",
   "metadata": {},
   "source": [
    "La función sobre esta linea genera una fila de puntos empezando por el central."
   ]
  },
  {
   "cell_type": "code",
   "execution_count": 15,
   "id": "ed3c8521",
   "metadata": {},
   "outputs": [],
   "source": [
    "y_minus = get_uniform_y(y0, stop=-0.02, step=0.0012, index=1)\n",
    "x_minus = compute_grid_1D(x0, y_minus[1:])\n",
    "y_plus = get_uniform_y(y0, stop=0.02, step=0.0012, index=1)\n",
    "x_plus = compute_grid_1D(x0, y_plus[1:])"
   ]
  },
  {
   "cell_type": "code",
   "execution_count": 16,
   "id": "7f96c44a",
   "metadata": {},
   "outputs": [],
   "source": [
    "y = np.vstack([y_minus[1:], y0, y_plus[1:]])\n",
    "x = np.vstack([x_minus, x0, x_plus])"
   ]
  },
  {
   "cell_type": "code",
   "execution_count": 17,
   "id": "f19bdd6f",
   "metadata": {},
   "outputs": [],
   "source": [
    "def compute_grid_2D(x0s, y0s, N):\n",
    "    xs = []\n",
    "    ys = []\n",
    "    for x0,y0 in zip(x0s,y0s):\n",
    "        y = np.array([y0 + e*np.array([1,0]) for e in np.linspace(0, 0.0226*2, N)])\n",
    "        x = np.vstack([x0, compute_grid_1D(x0, y[1:])])\n",
    "        xs.append(x)\n",
    "        ys.append(y)\n",
    "    return np.vstack(xs), np.vstack(ys)"
   ]
  },
  {
   "cell_type": "markdown",
   "id": "57fbed95",
   "metadata": {},
   "source": [
    "La función sobre esta línea genera una cuadrícula dada la primera fila, usa cada elemento para generar suavemente su columna"
   ]
  },
  {
   "cell_type": "code",
   "execution_count": 18,
   "id": "03df094d",
   "metadata": {},
   "outputs": [
    {
     "data": {
      "text/plain": [
       "((36, 8), (36, 2))"
      ]
     },
     "execution_count": 18,
     "metadata": {},
     "output_type": "execute_result"
    }
   ],
   "source": [
    "x.shape, y.shape"
   ]
  },
  {
   "cell_type": "code",
   "execution_count": 19,
   "id": "7dd905be",
   "metadata": {},
   "outputs": [],
   "source": [
    "x_2d, y_2d = compute_grid_2D(x,y, x.shape[0])"
   ]
  },
  {
   "cell_type": "code",
   "execution_count": 20,
   "id": "f88e76c7",
   "metadata": {},
   "outputs": [],
   "source": [
    "import joblib"
   ]
  },
  {
   "cell_type": "code",
   "execution_count": 21,
   "id": "fef171a7",
   "metadata": {},
   "outputs": [
    {
     "data": {
      "text/plain": [
       "['motores_simulados.joblib']"
      ]
     },
     "execution_count": 21,
     "metadata": {},
     "output_type": "execute_result"
    }
   ],
   "source": [
    "joblib.dump(x_2d, \"motores_simulados.joblib\")"
   ]
  },
  {
   "cell_type": "code",
   "execution_count": 22,
   "id": "fa6ce9a0",
   "metadata": {},
   "outputs": [
    {
     "data": {
      "text/plain": [
       "['posiciones_simuladas.joblib']"
      ]
     },
     "execution_count": 22,
     "metadata": {},
     "output_type": "execute_result"
    }
   ],
   "source": [
    "joblib.dump(y_2d, \"posiciones_simuladas.joblib\")"
   ]
  },
  {
   "cell_type": "code",
   "execution_count": 23,
   "id": "912073a5",
   "metadata": {},
   "outputs": [
    {
     "data": {
      "text/plain": [
       "(1296, 8)"
      ]
     },
     "execution_count": 23,
     "metadata": {},
     "output_type": "execute_result"
    }
   ],
   "source": [
    "x_2d.shape"
   ]
  },
  {
   "cell_type": "code",
   "execution_count": 24,
   "id": "43a6e4aa",
   "metadata": {},
   "outputs": [
    {
     "data": {
      "text/plain": [
       "array([[-0.02060116, -0.01026787],\n",
       "       [-0.01930973, -0.01026787],\n",
       "       [-0.01801831, -0.01026787],\n",
       "       ...,\n",
       "       [ 0.02201598,  0.02093213],\n",
       "       [ 0.02330741,  0.02093213],\n",
       "       [ 0.02459884,  0.02093213]])"
      ]
     },
     "execution_count": 24,
     "metadata": {},
     "output_type": "execute_result"
    }
   ],
   "source": [
    "y_2d"
   ]
  },
  {
   "cell_type": "code",
   "execution_count": 25,
   "id": "29ff97a7",
   "metadata": {},
   "outputs": [
    {
     "data": {
      "text/plain": [
       "0.0012914285714285718"
      ]
     },
     "execution_count": 25,
     "metadata": {},
     "output_type": "execute_result"
    }
   ],
   "source": [
    "#Tiene un paso como de 1mm.Con eso me salen 1500 puntos.\n",
    "np.abs(y_2d[0,0]-y_2d[1,0])"
   ]
  },
  {
   "cell_type": "code",
   "execution_count": 26,
   "id": "4d6d4f44",
   "metadata": {},
   "outputs": [],
   "source": [
    "import matplotlib.pyplot as plt"
   ]
  },
  {
   "cell_type": "code",
   "execution_count": 27,
   "id": "1a1df484",
   "metadata": {},
   "outputs": [
    {
     "data": {
      "image/png": "[encoded data removed]",
      "text/plain": [
       "<Figure size 360x360 with 1 Axes>"
      ]
     },
     "metadata": {
      "needs_background": "light"
     },
     "output_type": "display_data"
    }
   ],
   "source": [
    "fig, ax = plt.subplots((1), figsize=(5,5))\n",
    "plt.scatter(100*y_2d[:,0], 100*y_2d[:,1], alpha=0.5)\n",
    "plt.scatter(100*y0[0], 100*y0[1])\n",
    "plt.xlabel(\"x(cm)\")\n",
    "plt.ylabel(\"y(cm)\");\n",
    "plt.savefig(\"mesh.png\")"
   ]
  },
  {
   "cell_type": "code",
   "execution_count": 28,
   "id": "703c4622",
   "metadata": {},
   "outputs": [
    {
     "data": {
      "text/plain": [
       "(36, 36)"
      ]
     },
     "execution_count": 28,
     "metadata": {},
     "output_type": "execute_result"
    }
   ],
   "source": [
    "y_2d.shape[0] // y.shape[0], y.shape[0]"
   ]
  },
  {
   "cell_type": "code",
   "execution_count": 29,
   "id": "98e25fc0",
   "metadata": {},
   "outputs": [],
   "source": [
    "np.savetxt(\"posiciones_simuladas.txt\", y_2d)\n",
    "np.savetxt(\"motores_simulados.txt\", x_2d)"
   ]
  },
  {
   "cell_type": "code",
   "execution_count": null,
   "id": "1c89984a",
   "metadata": {},
   "outputs": [],
   "source": []
  }
 ],
 "metadata": {
  "kernelspec": {
   "display_name": "Python 3 (ipykernel)",
   "language": "python",
   "name": "python3"
  },
  "language_info": {
   "codemirror_mode": {
    "name": "ipython",
    "version": 3
   },
   "file_extension": ".py",
   "mimetype": "text/x-python",
   "name": "python",
   "nbconvert_exporter": "python",
   "pygments_lexer": "ipython3",
   "version": "3.8.10"
  }
 },
 "nbformat": 4,
 "nbformat_minor": 5
}
