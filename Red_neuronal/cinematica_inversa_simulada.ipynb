{
 "cells": [
  {
   "cell_type": "code",
   "execution_count": 1,
   "id": "dee24f1d",
   "metadata": {},
   "outputs": [],
   "source": [
    "from joblib import load\n",
    "import numpy as np\n",
    "import pandas as pd"
   ]
  },
  {
   "cell_type": "code",
   "execution_count": 2,
   "id": "6456f50f",
   "metadata": {},
   "outputs": [],
   "source": [
    "Y = load(\"motores_simulados.joblib\")"
   ]
  },
  {
   "cell_type": "code",
   "execution_count": 3,
   "id": "067bc1cb",
   "metadata": {},
   "outputs": [],
   "source": [
    "X = load(\"posiciones_simuladas.joblib\")"
   ]
  },
  {
   "cell_type": "code",
   "execution_count": 4,
   "id": "7cbc4085",
   "metadata": {},
   "outputs": [],
   "source": [
    "#Shuffle\n",
    "idx = np.arange(len(Y))\n",
    "np.random.seed(42)\n",
    "np.random.shuffle(idx)\n",
    "X = X[list(idx)]\n",
    "Y = Y[list(idx)]"
   ]
  },
  {
   "cell_type": "code",
   "execution_count": 5,
   "id": "8a2bfa4c",
   "metadata": {},
   "outputs": [],
   "source": [
    "from sklearn.preprocessing import MinMaxScaler\n",
    "from sklearn.neural_network import MLPRegressor\n",
    "from sklearn.pipeline import Pipeline\n",
    "from sklearn.metrics import r2_score, make_scorer\n",
    "from sklearn.model_selection import GridSearchCV"
   ]
  },
  {
   "cell_type": "code",
   "execution_count": 6,
   "id": "f8358f71",
   "metadata": {},
   "outputs": [],
   "source": [
    "yscaler = MinMaxScaler((-1,1)).fit(Y)\n",
    "Y = yscaler.transform(Y)"
   ]
  },
  {
   "cell_type": "code",
   "execution_count": 7,
   "id": "9438f28f",
   "metadata": {},
   "outputs": [],
   "source": [
    "scaler = MinMaxScaler((-1,1))"
   ]
  },
  {
   "cell_type": "code",
   "execution_count": 8,
   "id": "b01b3a8f",
   "metadata": {},
   "outputs": [],
   "source": [
    "regressor = MLPRegressor(\n",
    "    verbose=False,\n",
    "    random_state=42, \n",
    "    activation=\"relu\",\n",
    "    early_stopping=True,\n",
    "    max_iter = 800,\n",
    ")"
   ]
  },
  {
   "cell_type": "code",
   "execution_count": 9,
   "id": "0e71f8ca",
   "metadata": {},
   "outputs": [],
   "source": [
    "model = Pipeline(steps =[\n",
    "    (\"scaler\", scaler),\n",
    "    (\"nn\", regressor),\n",
    "])"
   ]
  },
  {
   "cell_type": "code",
   "execution_count": 10,
   "id": "49bf5bb2",
   "metadata": {},
   "outputs": [],
   "source": [
    "param_grid = {\"nn__hidden_layer_sizes\":[ (50,), (75,), (100,), (125,)],\n",
    "             \"nn__learning_rate_init\": [0.0001,0.0005,0.001,0.005,0.01,0.05],\n",
    "             \"nn__alpha\": [0.0001,0.0005,0.001,0.005,0.01,0.05],\n",
    "            }"
   ]
  },
  {
   "cell_type": "code",
   "execution_count": 11,
   "id": "24934060",
   "metadata": {},
   "outputs": [],
   "source": [
    "cv_1layer = GridSearchCV(model, param_grid, scoring=make_scorer(r2_score), verbose=1, n_jobs=-1, cv=5)"
   ]
  },
  {
   "cell_type": "code",
   "execution_count": 12,
   "id": "107e821c",
   "metadata": {},
   "outputs": [
    {
     "name": "stdout",
     "output_type": "stream",
     "text": [
      "Fitting 5 folds for each of 144 candidates, totalling 720 fits\n"
     ]
    },
    {
     "name": "stderr",
     "output_type": "stream",
     "text": [
      "[Parallel(n_jobs=-1)]: Using backend LokyBackend with 4 concurrent workers.\n",
      "[Parallel(n_jobs=-1)]: Done  42 tasks      | elapsed:   44.1s\n",
      "[Parallel(n_jobs=-1)]: Done 192 tasks      | elapsed:  3.4min\n",
      "[Parallel(n_jobs=-1)]: Done 442 tasks      | elapsed:  7.7min\n",
      "/usr/local/lib/python3.8/dist-packages/sklearn/neural_network/_multilayer_perceptron.py:582: ConvergenceWarning: Stochastic Optimizer: Maximum iterations (800) reached and the optimization hasn't converged yet.\n",
      "  warnings.warn(\n",
      "/usr/local/lib/python3.8/dist-packages/sklearn/neural_network/_multilayer_perceptron.py:582: ConvergenceWarning: Stochastic Optimizer: Maximum iterations (800) reached and the optimization hasn't converged yet.\n",
      "  warnings.warn(\n",
      "/usr/local/lib/python3.8/dist-packages/sklearn/neural_network/_multilayer_perceptron.py:582: ConvergenceWarning: Stochastic Optimizer: Maximum iterations (800) reached and the optimization hasn't converged yet.\n",
      "  warnings.warn(\n",
      "/usr/local/lib/python3.8/dist-packages/sklearn/neural_network/_multilayer_perceptron.py:582: ConvergenceWarning: Stochastic Optimizer: Maximum iterations (800) reached and the optimization hasn't converged yet.\n",
      "  warnings.warn(\n",
      "/usr/local/lib/python3.8/dist-packages/sklearn/neural_network/_multilayer_perceptron.py:582: ConvergenceWarning: Stochastic Optimizer: Maximum iterations (800) reached and the optimization hasn't converged yet.\n",
      "  warnings.warn(\n",
      "/usr/local/lib/python3.8/dist-packages/sklearn/neural_network/_multilayer_perceptron.py:582: ConvergenceWarning: Stochastic Optimizer: Maximum iterations (800) reached and the optimization hasn't converged yet.\n",
      "  warnings.warn(\n",
      "/usr/local/lib/python3.8/dist-packages/sklearn/neural_network/_multilayer_perceptron.py:582: ConvergenceWarning: Stochastic Optimizer: Maximum iterations (800) reached and the optimization hasn't converged yet.\n",
      "  warnings.warn(\n",
      "/usr/local/lib/python3.8/dist-packages/sklearn/neural_network/_multilayer_perceptron.py:582: ConvergenceWarning: Stochastic Optimizer: Maximum iterations (800) reached and the optimization hasn't converged yet.\n",
      "  warnings.warn(\n",
      "/usr/local/lib/python3.8/dist-packages/sklearn/neural_network/_multilayer_perceptron.py:582: ConvergenceWarning: Stochastic Optimizer: Maximum iterations (800) reached and the optimization hasn't converged yet.\n",
      "  warnings.warn(\n",
      "/usr/local/lib/python3.8/dist-packages/sklearn/neural_network/_multilayer_perceptron.py:582: ConvergenceWarning: Stochastic Optimizer: Maximum iterations (800) reached and the optimization hasn't converged yet.\n",
      "  warnings.warn(\n",
      "/usr/local/lib/python3.8/dist-packages/sklearn/neural_network/_multilayer_perceptron.py:582: ConvergenceWarning: Stochastic Optimizer: Maximum iterations (800) reached and the optimization hasn't converged yet.\n",
      "  warnings.warn(\n",
      "/usr/local/lib/python3.8/dist-packages/sklearn/neural_network/_multilayer_perceptron.py:582: ConvergenceWarning: Stochastic Optimizer: Maximum iterations (800) reached and the optimization hasn't converged yet.\n",
      "  warnings.warn(\n",
      "/usr/local/lib/python3.8/dist-packages/sklearn/neural_network/_multilayer_perceptron.py:582: ConvergenceWarning: Stochastic Optimizer: Maximum iterations (800) reached and the optimization hasn't converged yet.\n",
      "  warnings.warn(\n",
      "/usr/local/lib/python3.8/dist-packages/sklearn/neural_network/_multilayer_perceptron.py:582: ConvergenceWarning: Stochastic Optimizer: Maximum iterations (800) reached and the optimization hasn't converged yet.\n",
      "  warnings.warn(\n",
      "/usr/local/lib/python3.8/dist-packages/sklearn/neural_network/_multilayer_perceptron.py:582: ConvergenceWarning: Stochastic Optimizer: Maximum iterations (800) reached and the optimization hasn't converged yet.\n",
      "  warnings.warn(\n",
      "/usr/local/lib/python3.8/dist-packages/sklearn/neural_network/_multilayer_perceptron.py:582: ConvergenceWarning: Stochastic Optimizer: Maximum iterations (800) reached and the optimization hasn't converged yet.\n",
      "  warnings.warn(\n",
      "/usr/local/lib/python3.8/dist-packages/sklearn/neural_network/_multilayer_perceptron.py:582: ConvergenceWarning: Stochastic Optimizer: Maximum iterations (800) reached and the optimization hasn't converged yet.\n",
      "  warnings.warn(\n",
      "/usr/local/lib/python3.8/dist-packages/sklearn/neural_network/_multilayer_perceptron.py:582: ConvergenceWarning: Stochastic Optimizer: Maximum iterations (800) reached and the optimization hasn't converged yet.\n",
      "  warnings.warn(\n",
      "/usr/local/lib/python3.8/dist-packages/sklearn/neural_network/_multilayer_perceptron.py:582: ConvergenceWarning: Stochastic Optimizer: Maximum iterations (800) reached and the optimization hasn't converged yet.\n",
      "  warnings.warn(\n",
      "/usr/local/lib/python3.8/dist-packages/sklearn/neural_network/_multilayer_perceptron.py:582: ConvergenceWarning: Stochastic Optimizer: Maximum iterations (800) reached and the optimization hasn't converged yet.\n",
      "  warnings.warn(\n",
      "/usr/local/lib/python3.8/dist-packages/sklearn/neural_network/_multilayer_perceptron.py:582: ConvergenceWarning: Stochastic Optimizer: Maximum iterations (800) reached and the optimization hasn't converged yet.\n",
      "  warnings.warn(\n",
      "/usr/local/lib/python3.8/dist-packages/sklearn/neural_network/_multilayer_perceptron.py:582: ConvergenceWarning: Stochastic Optimizer: Maximum iterations (800) reached and the optimization hasn't converged yet.\n",
      "  warnings.warn(\n",
      "/usr/local/lib/python3.8/dist-packages/sklearn/neural_network/_multilayer_perceptron.py:582: ConvergenceWarning: Stochastic Optimizer: Maximum iterations (800) reached and the optimization hasn't converged yet.\n",
      "  warnings.warn(\n",
      "/usr/local/lib/python3.8/dist-packages/sklearn/neural_network/_multilayer_perceptron.py:582: ConvergenceWarning: Stochastic Optimizer: Maximum iterations (800) reached and the optimization hasn't converged yet.\n",
      "  warnings.warn(\n",
      "/usr/local/lib/python3.8/dist-packages/sklearn/neural_network/_multilayer_perceptron.py:582: ConvergenceWarning: Stochastic Optimizer: Maximum iterations (800) reached and the optimization hasn't converged yet.\n",
      "  warnings.warn(\n",
      "/usr/local/lib/python3.8/dist-packages/sklearn/neural_network/_multilayer_perceptron.py:582: ConvergenceWarning: Stochastic Optimizer: Maximum iterations (800) reached and the optimization hasn't converged yet.\n",
      "  warnings.warn(\n",
      "/usr/local/lib/python3.8/dist-packages/sklearn/neural_network/_multilayer_perceptron.py:582: ConvergenceWarning: Stochastic Optimizer: Maximum iterations (800) reached and the optimization hasn't converged yet.\n",
      "  warnings.warn(\n",
      "/usr/local/lib/python3.8/dist-packages/sklearn/neural_network/_multilayer_perceptron.py:582: ConvergenceWarning: Stochastic Optimizer: Maximum iterations (800) reached and the optimization hasn't converged yet.\n",
      "  warnings.warn(\n",
      "/usr/local/lib/python3.8/dist-packages/sklearn/neural_network/_multilayer_perceptron.py:582: ConvergenceWarning: Stochastic Optimizer: Maximum iterations (800) reached and the optimization hasn't converged yet.\n",
      "  warnings.warn(\n",
      "/usr/local/lib/python3.8/dist-packages/sklearn/neural_network/_multilayer_perceptron.py:582: ConvergenceWarning: Stochastic Optimizer: Maximum iterations (800) reached and the optimization hasn't converged yet.\n",
      "  warnings.warn(\n",
      "/usr/local/lib/python3.8/dist-packages/sklearn/neural_network/_multilayer_perceptron.py:582: ConvergenceWarning: Stochastic Optimizer: Maximum iterations (800) reached and the optimization hasn't converged yet.\n",
      "  warnings.warn(\n",
      "/usr/local/lib/python3.8/dist-packages/sklearn/neural_network/_multilayer_perceptron.py:582: ConvergenceWarning: Stochastic Optimizer: Maximum iterations (800) reached and the optimization hasn't converged yet.\n",
      "  warnings.warn(\n",
      "/usr/local/lib/python3.8/dist-packages/sklearn/neural_network/_multilayer_perceptron.py:582: ConvergenceWarning: Stochastic Optimizer: Maximum iterations (800) reached and the optimization hasn't converged yet.\n",
      "  warnings.warn(\n",
      "/usr/local/lib/python3.8/dist-packages/sklearn/neural_network/_multilayer_perceptron.py:582: ConvergenceWarning: Stochastic Optimizer: Maximum iterations (800) reached and the optimization hasn't converged yet.\n",
      "  warnings.warn(\n",
      "/usr/local/lib/python3.8/dist-packages/sklearn/neural_network/_multilayer_perceptron.py:582: ConvergenceWarning: Stochastic Optimizer: Maximum iterations (800) reached and the optimization hasn't converged yet.\n",
      "  warnings.warn(\n"
     ]
    },
    {
     "name": "stderr",
     "output_type": "stream",
     "text": [
      "/usr/local/lib/python3.8/dist-packages/sklearn/neural_network/_multilayer_perceptron.py:582: ConvergenceWarning: Stochastic Optimizer: Maximum iterations (800) reached and the optimization hasn't converged yet.\n",
      "  warnings.warn(\n",
      "/usr/local/lib/python3.8/dist-packages/sklearn/neural_network/_multilayer_perceptron.py:582: ConvergenceWarning: Stochastic Optimizer: Maximum iterations (800) reached and the optimization hasn't converged yet.\n",
      "  warnings.warn(\n",
      "/usr/local/lib/python3.8/dist-packages/sklearn/neural_network/_multilayer_perceptron.py:582: ConvergenceWarning: Stochastic Optimizer: Maximum iterations (800) reached and the optimization hasn't converged yet.\n",
      "  warnings.warn(\n",
      "/usr/local/lib/python3.8/dist-packages/sklearn/neural_network/_multilayer_perceptron.py:582: ConvergenceWarning: Stochastic Optimizer: Maximum iterations (800) reached and the optimization hasn't converged yet.\n",
      "  warnings.warn(\n",
      "/usr/local/lib/python3.8/dist-packages/sklearn/neural_network/_multilayer_perceptron.py:582: ConvergenceWarning: Stochastic Optimizer: Maximum iterations (800) reached and the optimization hasn't converged yet.\n",
      "  warnings.warn(\n",
      "/usr/local/lib/python3.8/dist-packages/sklearn/neural_network/_multilayer_perceptron.py:582: ConvergenceWarning: Stochastic Optimizer: Maximum iterations (800) reached and the optimization hasn't converged yet.\n",
      "  warnings.warn(\n",
      "/usr/local/lib/python3.8/dist-packages/sklearn/neural_network/_multilayer_perceptron.py:582: ConvergenceWarning: Stochastic Optimizer: Maximum iterations (800) reached and the optimization hasn't converged yet.\n",
      "  warnings.warn(\n",
      "/usr/local/lib/python3.8/dist-packages/sklearn/neural_network/_multilayer_perceptron.py:582: ConvergenceWarning: Stochastic Optimizer: Maximum iterations (800) reached and the optimization hasn't converged yet.\n",
      "  warnings.warn(\n",
      "/usr/local/lib/python3.8/dist-packages/sklearn/neural_network/_multilayer_perceptron.py:582: ConvergenceWarning: Stochastic Optimizer: Maximum iterations (800) reached and the optimization hasn't converged yet.\n",
      "  warnings.warn(\n",
      "/usr/local/lib/python3.8/dist-packages/sklearn/neural_network/_multilayer_perceptron.py:582: ConvergenceWarning: Stochastic Optimizer: Maximum iterations (800) reached and the optimization hasn't converged yet.\n",
      "  warnings.warn(\n",
      "/usr/local/lib/python3.8/dist-packages/sklearn/neural_network/_multilayer_perceptron.py:582: ConvergenceWarning: Stochastic Optimizer: Maximum iterations (800) reached and the optimization hasn't converged yet.\n",
      "  warnings.warn(\n",
      "/usr/local/lib/python3.8/dist-packages/sklearn/neural_network/_multilayer_perceptron.py:582: ConvergenceWarning: Stochastic Optimizer: Maximum iterations (800) reached and the optimization hasn't converged yet.\n",
      "  warnings.warn(\n",
      "/usr/local/lib/python3.8/dist-packages/sklearn/neural_network/_multilayer_perceptron.py:582: ConvergenceWarning: Stochastic Optimizer: Maximum iterations (800) reached and the optimization hasn't converged yet.\n",
      "  warnings.warn(\n",
      "/usr/local/lib/python3.8/dist-packages/sklearn/neural_network/_multilayer_perceptron.py:582: ConvergenceWarning: Stochastic Optimizer: Maximum iterations (800) reached and the optimization hasn't converged yet.\n",
      "  warnings.warn(\n",
      "/usr/local/lib/python3.8/dist-packages/sklearn/neural_network/_multilayer_perceptron.py:582: ConvergenceWarning: Stochastic Optimizer: Maximum iterations (800) reached and the optimization hasn't converged yet.\n",
      "  warnings.warn(\n",
      "/usr/local/lib/python3.8/dist-packages/sklearn/neural_network/_multilayer_perceptron.py:582: ConvergenceWarning: Stochastic Optimizer: Maximum iterations (800) reached and the optimization hasn't converged yet.\n",
      "  warnings.warn(\n",
      "/usr/local/lib/python3.8/dist-packages/sklearn/neural_network/_multilayer_perceptron.py:582: ConvergenceWarning: Stochastic Optimizer: Maximum iterations (800) reached and the optimization hasn't converged yet.\n",
      "  warnings.warn(\n",
      "/usr/local/lib/python3.8/dist-packages/sklearn/neural_network/_multilayer_perceptron.py:582: ConvergenceWarning: Stochastic Optimizer: Maximum iterations (800) reached and the optimization hasn't converged yet.\n",
      "  warnings.warn(\n",
      "/usr/local/lib/python3.8/dist-packages/sklearn/neural_network/_multilayer_perceptron.py:582: ConvergenceWarning: Stochastic Optimizer: Maximum iterations (800) reached and the optimization hasn't converged yet.\n",
      "  warnings.warn(\n",
      "/usr/local/lib/python3.8/dist-packages/sklearn/neural_network/_multilayer_perceptron.py:582: ConvergenceWarning: Stochastic Optimizer: Maximum iterations (800) reached and the optimization hasn't converged yet.\n",
      "  warnings.warn(\n",
      "/usr/local/lib/python3.8/dist-packages/sklearn/neural_network/_multilayer_perceptron.py:582: ConvergenceWarning: Stochastic Optimizer: Maximum iterations (800) reached and the optimization hasn't converged yet.\n",
      "  warnings.warn(\n",
      "/usr/local/lib/python3.8/dist-packages/sklearn/neural_network/_multilayer_perceptron.py:582: ConvergenceWarning: Stochastic Optimizer: Maximum iterations (800) reached and the optimization hasn't converged yet.\n",
      "  warnings.warn(\n",
      "/usr/local/lib/python3.8/dist-packages/sklearn/neural_network/_multilayer_perceptron.py:582: ConvergenceWarning: Stochastic Optimizer: Maximum iterations (800) reached and the optimization hasn't converged yet.\n",
      "  warnings.warn(\n",
      "/usr/local/lib/python3.8/dist-packages/sklearn/neural_network/_multilayer_perceptron.py:582: ConvergenceWarning: Stochastic Optimizer: Maximum iterations (800) reached and the optimization hasn't converged yet.\n",
      "  warnings.warn(\n",
      "/usr/local/lib/python3.8/dist-packages/sklearn/neural_network/_multilayer_perceptron.py:582: ConvergenceWarning: Stochastic Optimizer: Maximum iterations (800) reached and the optimization hasn't converged yet.\n",
      "  warnings.warn(\n",
      "/usr/local/lib/python3.8/dist-packages/sklearn/neural_network/_multilayer_perceptron.py:582: ConvergenceWarning: Stochastic Optimizer: Maximum iterations (800) reached and the optimization hasn't converged yet.\n",
      "  warnings.warn(\n",
      "/usr/local/lib/python3.8/dist-packages/sklearn/neural_network/_multilayer_perceptron.py:582: ConvergenceWarning: Stochastic Optimizer: Maximum iterations (800) reached and the optimization hasn't converged yet.\n",
      "  warnings.warn(\n",
      "/usr/local/lib/python3.8/dist-packages/sklearn/neural_network/_multilayer_perceptron.py:582: ConvergenceWarning: Stochastic Optimizer: Maximum iterations (800) reached and the optimization hasn't converged yet.\n",
      "  warnings.warn(\n",
      "/usr/local/lib/python3.8/dist-packages/sklearn/neural_network/_multilayer_perceptron.py:582: ConvergenceWarning: Stochastic Optimizer: Maximum iterations (800) reached and the optimization hasn't converged yet.\n",
      "  warnings.warn(\n",
      "/usr/local/lib/python3.8/dist-packages/sklearn/neural_network/_multilayer_perceptron.py:582: ConvergenceWarning: Stochastic Optimizer: Maximum iterations (800) reached and the optimization hasn't converged yet.\n",
      "  warnings.warn(\n",
      "/usr/local/lib/python3.8/dist-packages/sklearn/neural_network/_multilayer_perceptron.py:582: ConvergenceWarning: Stochastic Optimizer: Maximum iterations (800) reached and the optimization hasn't converged yet.\n",
      "  warnings.warn(\n",
      "/usr/local/lib/python3.8/dist-packages/sklearn/neural_network/_multilayer_perceptron.py:582: ConvergenceWarning: Stochastic Optimizer: Maximum iterations (800) reached and the optimization hasn't converged yet.\n",
      "  warnings.warn(\n",
      "/usr/local/lib/python3.8/dist-packages/sklearn/neural_network/_multilayer_perceptron.py:582: ConvergenceWarning: Stochastic Optimizer: Maximum iterations (800) reached and the optimization hasn't converged yet.\n",
      "  warnings.warn(\n",
      "/usr/local/lib/python3.8/dist-packages/sklearn/neural_network/_multilayer_perceptron.py:582: ConvergenceWarning: Stochastic Optimizer: Maximum iterations (800) reached and the optimization hasn't converged yet.\n",
      "  warnings.warn(\n",
      "/usr/local/lib/python3.8/dist-packages/sklearn/neural_network/_multilayer_perceptron.py:582: ConvergenceWarning: Stochastic Optimizer: Maximum iterations (800) reached and the optimization hasn't converged yet.\n",
      "  warnings.warn(\n",
      "[Parallel(n_jobs=-1)]: Done 720 out of 720 | elapsed: 12.4min finished\n"
     ]
    },
    {
     "data": {
      "text/plain": [
       "GridSearchCV(cv=5,\n",
       "             estimator=Pipeline(steps=[('scaler',\n",
       "                                        MinMaxScaler(feature_range=(-1, 1))),\n",
       "                                       ('nn',\n",
       "                                        MLPRegressor(early_stopping=True,\n",
       "                                                     max_iter=800,\n",
       "                                                     random_state=42))]),\n",
       "             n_jobs=-1,\n",
       "             param_grid={'nn__alpha': [0.0001, 0.0005, 0.001, 0.005, 0.01,\n",
       "                                       0.05],\n",
       "                         'nn__hidden_layer_sizes': [(50,), (75,), (100,),\n",
       "                                                    (125,)],\n",
       "                         'nn__learning_rate_init': [0.0001, 0.0005, 0.001,\n",
       "                                                    0.005, 0.01, 0.05]},\n",
       "             scoring=make_scorer(r2_score), verbose=1)"
      ]
     },
     "execution_count": 12,
     "metadata": {},
     "output_type": "execute_result"
    }
   ],
   "source": [
    "cv_1layer.fit(X, Y)"
   ]
  },
  {
   "cell_type": "code",
   "execution_count": 13,
   "id": "4a77bb46",
   "metadata": {},
   "outputs": [
    {
     "data": {
      "text/plain": [
       "0.9276849736393611"
      ]
     },
     "execution_count": 13,
     "metadata": {},
     "output_type": "execute_result"
    }
   ],
   "source": [
    "cv_1layer.best_score_"
   ]
  },
  {
   "cell_type": "code",
   "execution_count": 14,
   "id": "34ae244d",
   "metadata": {},
   "outputs": [
    {
     "data": {
      "text/plain": [
       "{'nn__alpha': 0.0005,\n",
       " 'nn__hidden_layer_sizes': (100,),\n",
       " 'nn__learning_rate_init': 0.005}"
      ]
     },
     "execution_count": 14,
     "metadata": {},
     "output_type": "execute_result"
    }
   ],
   "source": [
    "cv_1layer.best_params_"
   ]
  },
  {
   "cell_type": "code",
   "execution_count": 15,
   "id": "d30f898d",
   "metadata": {},
   "outputs": [],
   "source": [
    "from joblib import dump"
   ]
  },
  {
   "cell_type": "code",
   "execution_count": 16,
   "id": "9d147dec",
   "metadata": {},
   "outputs": [],
   "source": [
    "#Esta linea sobre escribe el archivo con la red simulada\n",
    "#dump(cv_1layer, \"red_simulada_magica.joblib\")"
   ]
  },
  {
   "cell_type": "markdown",
   "id": "208f3dc3",
   "metadata": {},
   "source": [
    "Vamos a sacar la curva de entrenamiento de la red neuronal y a guardar los parámetros necesarios para reproducirla en matlab en un txt."
   ]
  },
  {
   "cell_type": "code",
   "execution_count": 33,
   "id": "0a329ceb",
   "metadata": {},
   "outputs": [
    {
     "name": "stdout",
     "output_type": "stream",
     "text": [
      "Iteration 1, loss = 0.21477027\n",
      "Validation score: -0.977876\n",
      "Iteration 2, loss = 0.09013832\n",
      "Validation score: 0.203246\n",
      "Iteration 3, loss = 0.03927790\n",
      "Validation score: 0.457706\n",
      "Iteration 4, loss = 0.03071531\n",
      "Validation score: 0.488617\n",
      "Iteration 5, loss = 0.02808863\n",
      "Validation score: 0.578763\n",
      "Iteration 6, loss = 0.02310473\n",
      "Validation score: 0.633035\n",
      "Iteration 7, loss = 0.01994039\n",
      "Validation score: 0.666854\n",
      "Iteration 8, loss = 0.01785576\n",
      "Validation score: 0.694335\n",
      "Iteration 9, loss = 0.01630981\n",
      "Validation score: 0.718496\n",
      "Iteration 10, loss = 0.01486371\n",
      "Validation score: 0.742887\n",
      "Iteration 11, loss = 0.01355053\n",
      "Validation score: 0.765015\n",
      "Iteration 12, loss = 0.01247288\n",
      "Validation score: 0.780592\n",
      "Iteration 13, loss = 0.01159770\n",
      "Validation score: 0.793470\n",
      "Iteration 14, loss = 0.01083917\n",
      "Validation score: 0.804483\n",
      "Iteration 15, loss = 0.01023381\n",
      "Validation score: 0.813683\n",
      "Iteration 16, loss = 0.00974913\n",
      "Validation score: 0.820746\n",
      "Iteration 17, loss = 0.00932850\n",
      "Validation score: 0.826798\n",
      "Iteration 18, loss = 0.00896239\n",
      "Validation score: 0.831672\n",
      "Iteration 19, loss = 0.00866821\n",
      "Validation score: 0.836121\n",
      "Iteration 20, loss = 0.00842253\n",
      "Validation score: 0.840097\n",
      "Iteration 21, loss = 0.00823868\n",
      "Validation score: 0.843015\n",
      "Iteration 22, loss = 0.00806579\n",
      "Validation score: 0.844747\n",
      "Iteration 23, loss = 0.00791104\n",
      "Validation score: 0.846917\n",
      "Iteration 24, loss = 0.00778207\n",
      "Validation score: 0.850614\n",
      "Iteration 25, loss = 0.00764719\n",
      "Validation score: 0.851456\n",
      "Iteration 26, loss = 0.00754857\n",
      "Validation score: 0.852934\n",
      "Iteration 27, loss = 0.00745244\n",
      "Validation score: 0.854922\n",
      "Iteration 28, loss = 0.00737103\n",
      "Validation score: 0.856073\n",
      "Iteration 29, loss = 0.00727827\n",
      "Validation score: 0.857411\n",
      "Iteration 30, loss = 0.00726807\n",
      "Validation score: 0.858612\n",
      "Iteration 31, loss = 0.00718014\n",
      "Validation score: 0.859323\n",
      "Iteration 32, loss = 0.00708196\n",
      "Validation score: 0.861306\n",
      "Iteration 33, loss = 0.00703156\n",
      "Validation score: 0.861246\n",
      "Iteration 34, loss = 0.00695660\n",
      "Validation score: 0.863699\n",
      "Iteration 35, loss = 0.00689792\n",
      "Validation score: 0.864676\n",
      "Iteration 36, loss = 0.00684584\n",
      "Validation score: 0.864633\n",
      "Iteration 37, loss = 0.00677243\n",
      "Validation score: 0.866303\n",
      "Iteration 38, loss = 0.00670010\n",
      "Validation score: 0.867952\n",
      "Iteration 39, loss = 0.00664175\n",
      "Validation score: 0.869126\n",
      "Iteration 40, loss = 0.00657393\n",
      "Validation score: 0.869834\n",
      "Iteration 41, loss = 0.00654003\n",
      "Validation score: 0.870244\n",
      "Iteration 42, loss = 0.00650563\n",
      "Validation score: 0.871467\n",
      "Iteration 43, loss = 0.00647906\n",
      "Validation score: 0.873526\n",
      "Iteration 44, loss = 0.00641018\n",
      "Validation score: 0.872218\n",
      "Iteration 45, loss = 0.00634975\n",
      "Validation score: 0.875320\n",
      "Iteration 46, loss = 0.00629632\n",
      "Validation score: 0.875512\n",
      "Iteration 47, loss = 0.00625661\n",
      "Validation score: 0.876211\n",
      "Iteration 48, loss = 0.00619625\n",
      "Validation score: 0.877633\n",
      "Iteration 49, loss = 0.00612650\n",
      "Validation score: 0.878427\n",
      "Iteration 50, loss = 0.00609393\n",
      "Validation score: 0.880213\n",
      "Iteration 51, loss = 0.00606062\n",
      "Validation score: 0.879643\n",
      "Iteration 52, loss = 0.00600393\n",
      "Validation score: 0.881697\n",
      "Iteration 53, loss = 0.00594807\n",
      "Validation score: 0.881845\n",
      "Iteration 54, loss = 0.00593469\n",
      "Validation score: 0.882389\n",
      "Iteration 55, loss = 0.00588469\n",
      "Validation score: 0.883309\n",
      "Iteration 56, loss = 0.00584983\n",
      "Validation score: 0.883122\n",
      "Iteration 57, loss = 0.00580202\n",
      "Validation score: 0.885081\n",
      "Iteration 58, loss = 0.00578233\n",
      "Validation score: 0.886413\n",
      "Iteration 59, loss = 0.00578702\n",
      "Validation score: 0.884005\n",
      "Iteration 60, loss = 0.00575919\n",
      "Validation score: 0.886887\n",
      "Iteration 61, loss = 0.00570087\n",
      "Validation score: 0.886946\n",
      "Iteration 62, loss = 0.00562766\n",
      "Validation score: 0.888269\n",
      "Iteration 63, loss = 0.00558437\n",
      "Validation score: 0.888678\n",
      "Iteration 64, loss = 0.00554517\n",
      "Validation score: 0.890208\n",
      "Iteration 65, loss = 0.00552437\n",
      "Validation score: 0.888776\n",
      "Iteration 66, loss = 0.00545996\n",
      "Validation score: 0.891238\n",
      "Iteration 67, loss = 0.00542996\n",
      "Validation score: 0.891424\n",
      "Iteration 68, loss = 0.00543782\n",
      "Validation score: 0.891377\n",
      "Iteration 69, loss = 0.00538732\n",
      "Validation score: 0.892686\n",
      "Iteration 70, loss = 0.00540664\n",
      "Validation score: 0.891239\n",
      "Iteration 71, loss = 0.00536936\n",
      "Validation score: 0.894185\n",
      "Iteration 72, loss = 0.00530082\n",
      "Validation score: 0.893483\n",
      "Iteration 73, loss = 0.00528045\n",
      "Validation score: 0.894413\n",
      "Iteration 74, loss = 0.00524628\n",
      "Validation score: 0.895334\n",
      "Iteration 75, loss = 0.00520217\n",
      "Validation score: 0.895768\n",
      "Iteration 76, loss = 0.00518620\n",
      "Validation score: 0.895025\n",
      "Iteration 77, loss = 0.00517813\n",
      "Validation score: 0.896541\n",
      "Iteration 78, loss = 0.00511776\n",
      "Validation score: 0.896754\n",
      "Iteration 79, loss = 0.00509548\n",
      "Validation score: 0.896765\n",
      "Iteration 80, loss = 0.00508441\n",
      "Validation score: 0.897835\n",
      "Iteration 81, loss = 0.00506090\n",
      "Validation score: 0.897961\n",
      "Iteration 82, loss = 0.00501668\n",
      "Validation score: 0.898746\n",
      "Iteration 83, loss = 0.00503071\n",
      "Validation score: 0.897619\n",
      "Iteration 84, loss = 0.00499573\n",
      "Validation score: 0.899595\n",
      "Iteration 85, loss = 0.00497551\n",
      "Validation score: 0.899395\n",
      "Iteration 86, loss = 0.00502284\n",
      "Validation score: 0.897480\n",
      "Iteration 87, loss = 0.00498915\n",
      "Validation score: 0.899254\n",
      "Iteration 88, loss = 0.00496041\n",
      "Validation score: 0.900025\n",
      "Iteration 89, loss = 0.00490440\n",
      "Validation score: 0.899906\n",
      "Iteration 90, loss = 0.00490166\n",
      "Validation score: 0.899276\n",
      "Iteration 91, loss = 0.00486229\n",
      "Validation score: 0.900781\n",
      "Iteration 92, loss = 0.00485258\n",
      "Validation score: 0.901433\n",
      "Iteration 93, loss = 0.00479563\n",
      "Validation score: 0.901773\n",
      "Iteration 94, loss = 0.00476712\n",
      "Validation score: 0.901939\n",
      "Iteration 95, loss = 0.00477815\n",
      "Validation score: 0.901584\n",
      "Iteration 96, loss = 0.00477208\n",
      "Validation score: 0.902771\n",
      "Iteration 97, loss = 0.00474370\n",
      "Validation score: 0.902015\n",
      "Iteration 98, loss = 0.00473528\n",
      "Validation score: 0.903043\n",
      "Iteration 99, loss = 0.00470874\n",
      "Validation score: 0.903653\n",
      "Iteration 100, loss = 0.00468229\n",
      "Validation score: 0.903796\n",
      "Iteration 101, loss = 0.00466861\n",
      "Validation score: 0.904425\n",
      "Iteration 102, loss = 0.00463244\n",
      "Validation score: 0.903407\n",
      "Iteration 103, loss = 0.00463801\n",
      "Validation score: 0.903830\n",
      "Iteration 104, loss = 0.00463076\n",
      "Validation score: 0.904457\n",
      "Iteration 105, loss = 0.00463957\n",
      "Validation score: 0.905379\n",
      "Iteration 106, loss = 0.00463900\n",
      "Validation score: 0.904466\n",
      "Iteration 107, loss = 0.00457809\n",
      "Validation score: 0.904688\n",
      "Iteration 108, loss = 0.00456548\n",
      "Validation score: 0.903938\n",
      "Iteration 109, loss = 0.00460249\n",
      "Validation score: 0.904047\n",
      "Iteration 110, loss = 0.00460897\n",
      "Validation score: 0.905788\n",
      "Iteration 111, loss = 0.00454816\n",
      "Validation score: 0.906598\n",
      "Iteration 112, loss = 0.00451455\n",
      "Validation score: 0.904318\n",
      "Iteration 113, loss = 0.00447507\n",
      "Validation score: 0.906982\n",
      "Iteration 114, loss = 0.00447072\n",
      "Validation score: 0.906028\n",
      "Iteration 115, loss = 0.00451140\n",
      "Validation score: 0.906892\n",
      "Iteration 116, loss = 0.00449098\n",
      "Validation score: 0.905595\n",
      "Iteration 117, loss = 0.00445993\n",
      "Validation score: 0.906951\n",
      "Iteration 118, loss = 0.00445921\n",
      "Validation score: 0.907657\n",
      "Iteration 119, loss = 0.00447060\n",
      "Validation score: 0.907360\n",
      "Iteration 120, loss = 0.00441113\n",
      "Validation score: 0.908198\n",
      "Iteration 121, loss = 0.00442727\n",
      "Validation score: 0.905866\n",
      "Iteration 122, loss = 0.00453126\n",
      "Validation score: 0.906796\n",
      "Iteration 123, loss = 0.00448042\n",
      "Validation score: 0.906220\n",
      "Iteration 124, loss = 0.00440555\n",
      "Validation score: 0.908651\n",
      "Iteration 125, loss = 0.00437042\n",
      "Validation score: 0.908091\n",
      "Iteration 126, loss = 0.00433459\n",
      "Validation score: 0.908006\n",
      "Iteration 127, loss = 0.00434535\n",
      "Validation score: 0.908505\n",
      "Iteration 128, loss = 0.00432158\n",
      "Validation score: 0.907708\n",
      "Iteration 129, loss = 0.00432709\n",
      "Validation score: 0.909196\n",
      "Iteration 130, loss = 0.00434641\n",
      "Validation score: 0.907113\n",
      "Iteration 131, loss = 0.00434147\n",
      "Validation score: 0.908681\n",
      "Iteration 132, loss = 0.00431286\n",
      "Validation score: 0.908481\n",
      "Iteration 133, loss = 0.00432938\n",
      "Validation score: 0.908912\n",
      "Iteration 134, loss = 0.00432417\n",
      "Validation score: 0.907201\n",
      "Iteration 135, loss = 0.00430826\n",
      "Validation score: 0.909540\n",
      "Iteration 136, loss = 0.00429453\n",
      "Validation score: 0.908236\n",
      "Iteration 137, loss = 0.00427330\n",
      "Validation score: 0.909583\n",
      "Iteration 138, loss = 0.00427753\n",
      "Validation score: 0.908918\n",
      "Iteration 139, loss = 0.00427634\n",
      "Validation score: 0.910160\n",
      "Iteration 140, loss = 0.00426721\n",
      "Validation score: 0.907140\n",
      "Iteration 141, loss = 0.00423980\n",
      "Validation score: 0.910263\n",
      "Iteration 142, loss = 0.00432256\n",
      "Validation score: 0.906438\n"
     ]
    },
    {
     "name": "stdout",
     "output_type": "stream",
     "text": [
      "Iteration 143, loss = 0.00432408\n",
      "Validation score: 0.909978\n",
      "Iteration 144, loss = 0.00424563\n",
      "Validation score: 0.907958\n",
      "Iteration 145, loss = 0.00426709\n",
      "Validation score: 0.909007\n",
      "Iteration 146, loss = 0.00421132\n",
      "Validation score: 0.909945\n",
      "Iteration 147, loss = 0.00421380\n",
      "Validation score: 0.909436\n",
      "Iteration 148, loss = 0.00418875\n",
      "Validation score: 0.911491\n",
      "Iteration 149, loss = 0.00416985\n",
      "Validation score: 0.908322\n",
      "Iteration 150, loss = 0.00420559\n",
      "Validation score: 0.909804\n",
      "Iteration 151, loss = 0.00418783\n",
      "Validation score: 0.910437\n",
      "Iteration 152, loss = 0.00418418\n",
      "Validation score: 0.910709\n",
      "Iteration 153, loss = 0.00417678\n",
      "Validation score: 0.910797\n",
      "Iteration 154, loss = 0.00415469\n",
      "Validation score: 0.910862\n",
      "Iteration 155, loss = 0.00412188\n",
      "Validation score: 0.911103\n",
      "Iteration 156, loss = 0.00413556\n",
      "Validation score: 0.910808\n",
      "Iteration 157, loss = 0.00415333\n",
      "Validation score: 0.911662\n",
      "Iteration 158, loss = 0.00412117\n",
      "Validation score: 0.909699\n",
      "Iteration 159, loss = 0.00411532\n",
      "Validation score: 0.909892\n",
      "Iteration 160, loss = 0.00414214\n",
      "Validation score: 0.909591\n",
      "Iteration 161, loss = 0.00410368\n",
      "Validation score: 0.910310\n",
      "Iteration 162, loss = 0.00408450\n",
      "Validation score: 0.911124\n",
      "Iteration 163, loss = 0.00405282\n",
      "Validation score: 0.912319\n",
      "Iteration 164, loss = 0.00406339\n",
      "Validation score: 0.912005\n",
      "Iteration 165, loss = 0.00408097\n",
      "Validation score: 0.912540\n",
      "Iteration 166, loss = 0.00410593\n",
      "Validation score: 0.908489\n",
      "Iteration 167, loss = 0.00409943\n",
      "Validation score: 0.911449\n",
      "Iteration 168, loss = 0.00409341\n",
      "Validation score: 0.911310\n",
      "Iteration 169, loss = 0.00409720\n",
      "Validation score: 0.909410\n",
      "Iteration 170, loss = 0.00408270\n",
      "Validation score: 0.912591\n",
      "Iteration 171, loss = 0.00401695\n",
      "Validation score: 0.909794\n",
      "Iteration 172, loss = 0.00401834\n",
      "Validation score: 0.911627\n",
      "Iteration 173, loss = 0.00401328\n",
      "Validation score: 0.911305\n",
      "Iteration 174, loss = 0.00399878\n",
      "Validation score: 0.911729\n",
      "Iteration 175, loss = 0.00402286\n",
      "Validation score: 0.912081\n",
      "Iteration 176, loss = 0.00403931\n",
      "Validation score: 0.910121\n",
      "Validation score did not improve more than tol=0.000100 for 10 consecutive epochs. Stopping.\n"
     ]
    }
   ],
   "source": [
    "regressor = MLPRegressor(\n",
    "    verbose=2,\n",
    "    random_state=42, \n",
    "    activation=\"relu\",\n",
    "    early_stopping=True,\n",
    "    max_iter = 1000,\n",
    "    learning_rate_init=0.005,\n",
    "    alpha=0.0005,\n",
    "    hidden_layer_sizes=(100,),\n",
    ")\n",
    "model = Pipeline(steps=[(\"scaler\", scaler), (\"nn\", regressor)]).fit(X,Y)"
   ]
  },
  {
   "cell_type": "code",
   "execution_count": 34,
   "id": "98b129eb",
   "metadata": {},
   "outputs": [
    {
     "data": {
      "image/png": "[encoded data removed]",
      "text/plain": [
       "<Figure size 432x288 with 1 Axes>"
      ]
     },
     "metadata": {
      "needs_background": "light"
     },
     "output_type": "display_data"
    }
   ],
   "source": [
    "from matplotlib import pyplot as plt\n",
    "plt.plot(model.steps[1][1].loss_curve_);\n",
    "plt.xlabel(\"iteracion\");\n",
    "plt.ylabel(\"MSE\");"
   ]
  },
  {
   "cell_type": "code",
   "execution_count": 35,
   "id": "62c01438",
   "metadata": {},
   "outputs": [],
   "source": [
    "W1, W2 = model.steps[1][1].coefs_"
   ]
  },
  {
   "cell_type": "code",
   "execution_count": 36,
   "id": "baf9d245",
   "metadata": {},
   "outputs": [],
   "source": [
    "b1, b2 = model.steps[1][1].intercepts_"
   ]
  },
  {
   "cell_type": "code",
   "execution_count": 37,
   "id": "20aff625",
   "metadata": {},
   "outputs": [],
   "source": [
    "np.savetxt(\"W1.txt\", W1)\n",
    "np.savetxt(\"W2.txt\", W2)\n",
    "np.savetxt(\"b1.txt\", b1)\n",
    "np.savetxt(\"b2.txt\", b2)"
   ]
  },
  {
   "cell_type": "code",
   "execution_count": 38,
   "id": "48d1a1df",
   "metadata": {},
   "outputs": [
    {
     "data": {
      "text/plain": [
       "array([-2.91309406,  0.64788649, -1.32010107, -0.62476355,  2.36218763,\n",
       "        0.75120824,  0.93843601, -0.7078645 ])"
      ]
     },
     "execution_count": 38,
     "metadata": {},
     "output_type": "execute_result"
    }
   ],
   "source": [
    "yscaler.min_"
   ]
  },
  {
   "cell_type": "code",
   "execution_count": 39,
   "id": "966535b5",
   "metadata": {},
   "outputs": [
    {
     "data": {
      "text/plain": [
       "array([0.00457098, 0.00138739, 0.00113162, 0.00292659, 0.00276628,\n",
       "       0.00138752, 0.00186869, 0.00139023])"
      ]
     },
     "execution_count": 39,
     "metadata": {},
     "output_type": "execute_result"
    }
   ],
   "source": [
    "yscaler.scale_"
   ]
  },
  {
   "cell_type": "code",
   "execution_count": 40,
   "id": "87f4fc2a",
   "metadata": {},
   "outputs": [],
   "source": [
    "Y_real = load(\"motores_simulados.joblib\")"
   ]
  },
  {
   "cell_type": "code",
   "execution_count": 41,
   "id": "a52fc84e",
   "metadata": {},
   "outputs": [],
   "source": [
    "np.savetxt(\"ymin.txt\", Y_real.min(axis=0))\n",
    "np.savetxt(\"ymax.txt\", Y_real.max(axis=0))"
   ]
  },
  {
   "cell_type": "code",
   "execution_count": 42,
   "id": "6c0552a5",
   "metadata": {},
   "outputs": [],
   "source": [
    "X_real = load(\"posiciones_simuladas.joblib\")"
   ]
  },
  {
   "cell_type": "code",
   "execution_count": 43,
   "id": "e18bc8c8",
   "metadata": {},
   "outputs": [],
   "source": [
    "np.savetxt(\"xmin.txt\", X_real.min(axis=0))\n",
    "np.savetxt(\"xmax.txt\", X_real.max(axis=0))"
   ]
  },
  {
   "cell_type": "code",
   "execution_count": 44,
   "id": "077c51b8",
   "metadata": {},
   "outputs": [
    {
     "data": {
      "text/plain": [
       "array([  418.53006622, -1187.76117984,   282.86970592,  -128.21645019,\n",
       "       -1215.41714194, -1262.11348393, -1037.32495366,  -210.13458386])"
      ]
     },
     "execution_count": 44,
     "metadata": {},
     "output_type": "execute_result"
    }
   ],
   "source": [
    "Y_real.min(axis=0)"
   ]
  },
  {
   "cell_type": "code",
   "execution_count": 45,
   "id": "3f0bc98e",
   "metadata": {},
   "outputs": [
    {
     "data": {
      "text/plain": [
       "array([ 856.07265676,  253.79585326, 2050.24715714,  555.17371751,\n",
       "       -492.42528218,  179.30673472,   32.94504363, 1228.47580777])"
      ]
     },
     "execution_count": 45,
     "metadata": {},
     "output_type": "execute_result"
    }
   ],
   "source": [
    "Y_real.max(axis=0)"
   ]
  },
  {
   "cell_type": "code",
   "execution_count": 46,
   "id": "2fec8dea",
   "metadata": {},
   "outputs": [],
   "source": [
    "y_t=model.predict(np.array([[0.01,0.01]]))"
   ]
  },
  {
   "cell_type": "code",
   "execution_count": 47,
   "id": "c36795bc",
   "metadata": {},
   "outputs": [
    {
     "data": {
      "text/plain": [
       "array([[ 648.23962555, -172.36680953,  628.50990558,  -10.02956575,\n",
       "        -880.30282938,  -18.54494216,  -65.05409919,  874.6343071 ]])"
      ]
     },
     "execution_count": 47,
     "metadata": {},
     "output_type": "execute_result"
    }
   ],
   "source": [
    "yscaler.inverse_transform(y_t)"
   ]
  },
  {
   "cell_type": "code",
   "execution_count": 48,
   "id": "f5f23452",
   "metadata": {},
   "outputs": [
    {
     "data": {
      "text/plain": [
       "array([[ 0.04999863,  0.40874672, -0.60886657, -0.65411594, -0.07297902,\n",
       "         0.72547676,  0.81687024,  0.50807876]])"
      ]
     },
     "execution_count": 48,
     "metadata": {},
     "output_type": "execute_result"
    }
   ],
   "source": [
    "y_t"
   ]
  },
  {
   "cell_type": "code",
   "execution_count": null,
   "id": "3ae4d85f",
   "metadata": {},
   "outputs": [],
   "source": []
  },
  {
   "cell_type": "code",
   "execution_count": null,
   "id": "67e90d96",
   "metadata": {},
   "outputs": [],
   "source": []
  }
 ],
 "metadata": {
  "kernelspec": {
   "display_name": "Python 3 (ipykernel)",
   "language": "python",
   "name": "python3"
  },
  "language_info": {
   "codemirror_mode": {
    "name": "ipython",
    "version": 3
   },
   "file_extension": ".py",
   "mimetype": "text/x-python",
   "name": "python",
   "nbconvert_exporter": "python",
   "pygments_lexer": "ipython3",
   "version": "3.8.10"
  }
 },
 "nbformat": 4,
 "nbformat_minor": 5
}
